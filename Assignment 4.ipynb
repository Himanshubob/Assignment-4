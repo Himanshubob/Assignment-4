{
 "cells": [
  {
   "cell_type": "markdown",
   "id": "900f0adf",
   "metadata": {},
   "source": [
    "# Q 1...."
   ]
  },
  {
   "cell_type": "code",
   "execution_count": 1,
   "id": "d32c71ee",
   "metadata": {},
   "outputs": [
    {
     "data": {
      "text/plain": [
       "'class= one word is blueprint\\n   object= An object is the basic building block of OOPs\\n'"
      ]
     },
     "execution_count": 1,
     "metadata": {},
     "output_type": "execute_result"
    }
   ],
   "source": [
    "# a)\n",
    "\"\"\"class= one word is blueprint\n",
    "   object= An object is the basic building block of OOPs\n",
    "\"\"\"\n"
   ]
  },
  {
   "cell_type": "code",
   "execution_count": 6,
   "id": "c3ae6ff5",
   "metadata": {},
   "outputs": [],
   "source": [
    "#b)\n",
    "class school:\n",
    "    def __init__(self,name,city):\n",
    "        self.name=name\n",
    "        self.city=city\n",
    "    def return_school_location(self):\n",
    "        return self.name,self.city"
   ]
  },
  {
   "cell_type": "code",
   "execution_count": 7,
   "id": "d506ac1c",
   "metadata": {},
   "outputs": [],
   "source": [
    "Ram=school(\"gkv\",\"haridwar\")"
   ]
  },
  {
   "cell_type": "code",
   "execution_count": 14,
   "id": "ffa88087",
   "metadata": {},
   "outputs": [
    {
     "data": {
      "text/plain": [
       "('gkv', 'haridwar')"
      ]
     },
     "execution_count": 14,
     "metadata": {},
     "output_type": "execute_result"
    }
   ],
   "source": [
    " Ram.return_school_location()"
   ]
  },
  {
   "cell_type": "markdown",
   "id": "404e88cb",
   "metadata": {},
   "source": [
    "# Q2...."
   ]
  },
  {
   "cell_type": "code",
   "execution_count": 15,
   "id": "11953432",
   "metadata": {},
   "outputs": [
    {
     "data": {
      "text/plain": [
       "'The four pillars of Oops\\n1. Abstraction\\n2. Encapsulation\\n3. Inheritance\\n4. Polymorphism\\n'"
      ]
     },
     "execution_count": 15,
     "metadata": {},
     "output_type": "execute_result"
    }
   ],
   "source": [
    "'''The four pillars of Oops\n",
    "1. Abstraction\n",
    "2. Encapsulation\n",
    "3. Inheritance\n",
    "4. Polymorphism\n",
    "'''"
   ]
  },
  {
   "cell_type": "markdown",
   "id": "6583677c",
   "metadata": {},
   "source": [
    "# Q3...."
   ]
  },
  {
   "cell_type": "code",
   "execution_count": 16,
   "id": "5b6a677d",
   "metadata": {},
   "outputs": [
    {
     "data": {
      "text/plain": [
       "'init( )=  ka use input lene ke liye kiya jata hai\\n'"
      ]
     },
     "execution_count": 16,
     "metadata": {},
     "output_type": "execute_result"
    }
   ],
   "source": [
    "#--init--()\n",
    "\"\"\"init( )=  ka use input lene ke liye kiya jata hai\n",
    "\"\"\""
   ]
  },
  {
   "cell_type": "code",
   "execution_count": 17,
   "id": "5ee439eb",
   "metadata": {},
   "outputs": [],
   "source": [
    "#b)\n",
    "class school:\n",
    "    def __init__(self,name,city):\n",
    "        self.name=name\n",
    "        self.city=city\n",
    "    def return_school_location(self):\n",
    "        return self.name,self.city"
   ]
  },
  {
   "cell_type": "markdown",
   "id": "87c82ede",
   "metadata": {},
   "source": [
    "# Q4...."
   ]
  },
  {
   "cell_type": "code",
   "execution_count": 18,
   "id": "52a5d1eb",
   "metadata": {},
   "outputs": [],
   "source": [
    "#why self is used in oops?\n",
    "#self represents the instance of the class"
   ]
  },
  {
   "cell_type": "markdown",
   "id": "633f09dc",
   "metadata": {},
   "source": [
    "# Q5.... What is inheritance? Give an example for each type of inheritance."
   ]
  },
  {
   "cell_type": "code",
   "execution_count": 1,
   "id": "012da9d6",
   "metadata": {},
   "outputs": [
    {
     "data": {
      "text/plain": [
       "'\\ninheritance= ak class ak alag alag  jagha se acsis karna \\n'"
      ]
     },
     "execution_count": 1,
     "metadata": {},
     "output_type": "execute_result"
    }
   ],
   "source": [
    "# a)..\n",
    "'''\n",
    "inheritance= ak class ak alag alag  jagha se acsis karna \n",
    "'''"
   ]
  },
  {
   "cell_type": "code",
   "execution_count": 2,
   "id": "724674a3",
   "metadata": {},
   "outputs": [
    {
     "ename": "IndentationError",
     "evalue": "unexpected indent (4059465477.py, line 2)",
     "output_type": "error",
     "traceback": [
      "\u001b[1;36m  Cell \u001b[1;32mIn[2], line 2\u001b[1;36m\u001b[0m\n\u001b[1;33m    \"\"\"\u001b[0m\n\u001b[1;37m    ^\u001b[0m\n\u001b[1;31mIndentationError\u001b[0m\u001b[1;31m:\u001b[0m unexpected indent\n"
     ]
    }
   ],
   "source": [
    " # 3type of inheritance \n",
    "    \"\"\"\n",
    "    1 simple inheritance\n",
    "    2mulple lable inheritance\n",
    "    3.multiple inhertance\n",
    "    \"\"\""
   ]
  },
  {
   "cell_type": "code",
   "execution_count": 3,
   "id": "6cbaff36",
   "metadata": {},
   "outputs": [],
   "source": [
    "#1)"
   ]
  },
  {
   "cell_type": "code",
   "execution_count": 8,
   "id": "1ab45785",
   "metadata": {},
   "outputs": [],
   "source": [
    "class test:\n",
    "    def test_meth(self):\n",
    "        return \"this is my first class\""
   ]
  },
  {
   "cell_type": "code",
   "execution_count": 9,
   "id": "91a803db",
   "metadata": {},
   "outputs": [],
   "source": [
    "class my_class(test):\n",
    "    pass"
   ]
  },
  {
   "cell_type": "code",
   "execution_count": 10,
   "id": "b8946fc8",
   "metadata": {},
   "outputs": [],
   "source": [
    "my_class_obj=my_class()"
   ]
  },
  {
   "cell_type": "code",
   "execution_count": 11,
   "id": "1b10825b",
   "metadata": {},
   "outputs": [
    {
     "data": {
      "text/plain": [
       "'this is my first class'"
      ]
     },
     "execution_count": 11,
     "metadata": {},
     "output_type": "execute_result"
    }
   ],
   "source": [
    "my_class_obj.test_meth()"
   ]
  },
  {
   "cell_type": "code",
   "execution_count": 12,
   "id": "aca7ed7b",
   "metadata": {},
   "outputs": [],
   "source": [
    "#2)"
   ]
  },
  {
   "cell_type": "code",
   "execution_count": 13,
   "id": "015de4d1",
   "metadata": {},
   "outputs": [],
   "source": [
    "class class1:\n",
    "    def test_class1(self):\n",
    "        return \"this is the first class\""
   ]
  },
  {
   "cell_type": "code",
   "execution_count": 14,
   "id": "6efa8905",
   "metadata": {},
   "outputs": [],
   "source": [
    "class class2(class1):\n",
    "    def test_class2(self):\n",
    "        return \"this is the secand class\""
   ]
  },
  {
   "cell_type": "code",
   "execution_count": 15,
   "id": "093b09a7",
   "metadata": {},
   "outputs": [],
   "source": [
    "class class3(class2):\n",
    "    pass"
   ]
  },
  {
   "cell_type": "code",
   "execution_count": 16,
   "id": "11d8e322",
   "metadata": {},
   "outputs": [],
   "source": [
    "class3_obj=class3()"
   ]
  },
  {
   "cell_type": "code",
   "execution_count": 17,
   "id": "756cebd5",
   "metadata": {},
   "outputs": [
    {
     "data": {
      "text/plain": [
       "'this is the first class'"
      ]
     },
     "execution_count": 17,
     "metadata": {},
     "output_type": "execute_result"
    }
   ],
   "source": [
    "class3_obj.test_class1()"
   ]
  },
  {
   "cell_type": "code",
   "execution_count": 19,
   "id": "cb5ccf6c",
   "metadata": {},
   "outputs": [
    {
     "data": {
      "text/plain": [
       "'this is the secand class'"
      ]
     },
     "execution_count": 19,
     "metadata": {},
     "output_type": "execute_result"
    }
   ],
   "source": [
    "class3_obj.test_class2()"
   ]
  },
  {
   "cell_type": "code",
   "execution_count": 20,
   "id": "6f61a730",
   "metadata": {},
   "outputs": [],
   "source": [
    "#3)"
   ]
  },
  {
   "cell_type": "code",
   "execution_count": 21,
   "id": "d8c28e42",
   "metadata": {},
   "outputs": [],
   "source": [
    "class my:\n",
    "    def name(self):\n",
    "        return \"this is the first class\""
   ]
  },
  {
   "cell_type": "code",
   "execution_count": 22,
   "id": "8c11c17d",
   "metadata": {},
   "outputs": [],
   "source": [
    "class to:\n",
    "    def man(self):\n",
    "        return \" this is the secand class\""
   ]
  },
  {
   "cell_type": "code",
   "execution_count": 23,
   "id": "9b9b2dbb",
   "metadata": {},
   "outputs": [],
   "source": [
    "class class3(my,to):\n",
    "    pass"
   ]
  },
  {
   "cell_type": "code",
   "execution_count": 24,
   "id": "b1a50454",
   "metadata": {},
   "outputs": [],
   "source": [
    "class3_obj=class3"
   ]
  },
  {
   "cell_type": "code",
   "execution_count": null,
   "id": "5a8ca415",
   "metadata": {},
   "outputs": [],
   "source": [
    "class3_obj.name()"
   ]
  }
 ],
 "metadata": {
  "kernelspec": {
   "display_name": "Python 3 (ipykernel)",
   "language": "python",
   "name": "python3"
  },
  "language_info": {
   "codemirror_mode": {
    "name": "ipython",
    "version": 3
   },
   "file_extension": ".py",
   "mimetype": "text/x-python",
   "name": "python",
   "nbconvert_exporter": "python",
   "pygments_lexer": "ipython3",
   "version": "3.10.9"
  }
 },
 "nbformat": 4,
 "nbformat_minor": 5
}
